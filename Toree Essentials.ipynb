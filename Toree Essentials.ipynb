{
 "cells": [
  {
   "cell_type": "markdown",
   "metadata": {},
   "source": [
    "### Debug Configurations"
   ]
  },
  {
   "cell_type": "code",
   "execution_count": 2,
   "metadata": {
    "collapsed": false
   },
   "outputs": [
    {
     "data": {
      "text/plain": [
       "spark.app.id=local-1466469976261\n",
       "spark.app.name=IBM Spark Kernel\n",
       "spark.driver.extraClassPath=~/mysql-connector-java-5.1.12.jar\n",
       "spark.driver.extraJavaOptions=-Dlog4j.logLevel=info\n",
       "spark.driver.host=10.110.133.114\n",
       "spark.driver.port=53813\n",
       "spark.executor.extraClassPath=~/mysql-connector-java-5.1.12.jar\n",
       "spark.executor.id=driver\n",
       "spark.externalBlockStore.folderName=spark-e742ffa4-586b-4a5b-b1da-b446d3fa4751\n",
       "spark.fileserver.uri=http://10.110.133.114:53814\n",
       "spark.jars=file:/usr/local/share/jupyter/kernels/toree/lib/toree-kernel-assembly-0.1.0.dev4-SNAPSHOT.jar\n",
       "spark.localProperties.clone=true\n",
       "spark.master=local[2]\n",
       "spark.repl.class.uri=http://10.110.133.114:53806\n",
       "spark.submit.deployMode=client"
      ]
     },
     "execution_count": 2,
     "metadata": {},
     "output_type": "execute_result"
    }
   ],
   "source": [
    "sc.getConf.toDebugString"
   ]
  },
  {
   "cell_type": "code",
   "execution_count": null,
   "metadata": {
    "collapsed": true
   },
   "outputs": [],
   "source": []
  }
 ],
 "metadata": {
  "kernelspec": {
   "display_name": "Toree",
   "language": "",
   "name": "toree"
  },
  "language_info": {
   "name": "scala"
  }
 },
 "nbformat": 4,
 "nbformat_minor": 0
}
